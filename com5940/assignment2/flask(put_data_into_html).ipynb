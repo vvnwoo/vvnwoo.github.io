{
 "cells": [
  {
   "cell_type": "code",
   "execution_count": null,
   "metadata": {},
   "outputs": [
    {
     "name": "stderr",
     "output_type": "stream",
     "text": [
      " * Running on http://localhost:9010/ (Press CTRL+C to quit)\n",
      "127.0.0.1 - - [23/Feb/2020 00:59:29] \"GET / HTTP/1.1\" 200 -\n"
     ]
    },
    {
     "name": "stdout",
     "output_type": "stream",
     "text": [
      "{'cocktail': 'Srcrewdriver', 'flavour': '中等', 'alcohol_content': 0.1, 'spirits': ['recS4ruUJbc2zufxZ'], 'images': [{'id': 'attI4NhbK7Cg6sUtx', 'url': 'https://dl.airtable.com/.attachments/3f8ed4b7e39c061dd65afa6455a8df4e/d1be859e/screwdriver-112816.jpg', 'filename': 'screwdriver-112816.jpg', 'size': 254416, 'type': 'image/jpeg', 'thumbnails': {'small': {'url': 'https://dl.airtable.com/.attachmentThumbnails/5c06f3e9823e0157519811c6b45246b7/63fe6e45', 'width': 54, 'height': 36}, 'large': {'url': 'https://dl.airtable.com/.attachmentThumbnails/3448c6a18b6433a7e363a71f5ca59cf4/69739e84', 'width': 768, 'height': 512}, 'full': {'url': 'https://dl.airtable.com/.attachmentThumbnails/a6f16d178338ab886cc50b9ed15698bc/6441fabe', 'width': 3000, 'height': 3000}}}], 'how_to_make': 'https://www.youtube.com/watch?v=ASuf8XVA1lk', 'recipe': 'vodka; orange juice', 'skills': ['recFDom8ILaGiwc00'], 'seo_keywords': ['recgn4RmZKHaGWje1', 'recE7VOBeSjH7KOrR', 'rec70KapbtoDY3lQc'], 'persona': ['recozwy4YKRxriEGz', 'reccKj9YPFbY5vnsE', 'recf7PsFVOagqU5e6'], 'glass': ['recosHHULpFFNLn62', 'recF3hOcxSbZaATJS'], 'color': ['rec2rNbmGywnMOsZQ'], 'flavour_2': ['recgwn7BKGaJS9HQK'], 'spirit_type': ['vodka'], 'url': 'https://dl.airtable.com/.attachments/3f8ed4b7e39c061dd65afa6455a8df4e/d1be859e/screwdriver-112816.jpg'}\n",
      "{'cocktail': 'EI diablo', 'flavour': '中等', 'alcohol_content': 0.12, 'spirits': ['recRGd7JPtYYp6yU9'], 'images': [{'id': 'attrqrGYtJq3SDMlp', 'url': 'https://dl.airtable.com/.attachments/3c8fa3a7ec42c7a53fa8eb2ef24f5423/b713c813/el.jpg', 'filename': 'el.jpg', 'size': 67559, 'type': 'image/jpeg', 'thumbnails': {'small': {'url': 'https://dl.airtable.com/.attachmentThumbnails/a6f31c5e73f6a842a988aa6706231930/1e8ad4db', 'width': 36, 'height': 36}, 'large': {'url': 'https://dl.airtable.com/.attachmentThumbnails/27de0447b39a7952b55f981ffe37acf2/e5c9f118', 'width': 512, 'height': 512}, 'full': {'url': 'https://dl.airtable.com/.attachmentThumbnails/6551d3e83077ef58b2de4e16cc141753/1d153463', 'width': 3000, 'height': 3000}}}], 'how_to_make': 'https://www.youtube.com/watch?v=YskYMvy_rdg', 'recipe': 'tequila; currant schnapps; lemon juice; ginger ale', 'skills': ['recFDom8ILaGiwc00'], 'seo_keywords': ['recgn4RmZKHaGWje1', 'recE7VOBeSjH7KOrR', 'rec70KapbtoDY3lQc'], 'persona': ['reccKj9YPFbY5vnsE', 'recI5U1bpjchWwWIY', 'recj8nVntD1w1VfbP'], 'glass': ['recosHHULpFFNLn62'], 'color': ['recUXpeIFVYbBNoJq'], 'flavour_2': ['recgwn7BKGaJS9HQK'], 'spirit_type': ['tequila'], 'url': 'https://dl.airtable.com/.attachments/3c8fa3a7ec42c7a53fa8eb2ef24f5423/b713c813/el.jpg'}\n",
      "{'cocktail': 'Gibson', 'flavour': '辛口', 'alcohol_content': 0.37, 'spirits': ['recOtykTLIeOIvEuW'], 'images': [{'id': 'attg51FHfYgd97cFB', 'url': 'https://dl.airtable.com/.attachments/a21aa8d1c059e2791e0ec4b7820cf156/61613820/gibson.jpg', 'filename': 'gibson.jpg', 'size': 118491, 'type': 'image/jpeg', 'thumbnails': {'small': {'url': 'https://dl.airtable.com/.attachmentThumbnails/2179734ae822977198933c2c78e557a6/4b66be50', 'width': 60, 'height': 36}, 'large': {'url': 'https://dl.airtable.com/.attachmentThumbnails/653e43f00d5e1bf91715dd0f54f0d7fe/6f3ed9f5', 'width': 853, 'height': 512}, 'full': {'url': 'https://dl.airtable.com/.attachmentThumbnails/cf030370b498fe9248732bd99192abf8/e6fae4de', 'width': 3000, 'height': 3000}}}], 'how_to_make': 'https://www.youtube.com/watch?v=l9TtLQ3JGTU', 'recipe': 'dry gin; dry absinthe; pearl onions', 'skills': ['recvYiUzgkyfk4ioJ'], 'seo_keywords': ['recEPwQyKNrftpjwN', 'rec70KapbtoDY3lQc', 'rec9SRYWFdnnjK3Sb'], 'persona': ['recl346II7rwCzNxg', 'recj8nVntD1w1VfbP', 'recEFMlQ86qJpOXC0'], 'glass': ['rec6XobSV5B4oqUqe'], 'color': ['rectDuc05nV1PgLM8'], 'flavour_2': ['recLBUoMDGq5cZlXK'], 'spirit_type': ['gin '], 'url': 'https://dl.airtable.com/.attachments/a21aa8d1c059e2791e0ec4b7820cf156/61613820/gibson.jpg'}\n",
      "{'cocktail': 'White Lady', 'flavour': '辛口', 'alcohol_content': 0.3, 'spirits': ['recOtykTLIeOIvEuW'], 'images': [{'id': 'attHpJlCiee3vkknr', 'url': 'https://dl.airtable.com/.attachments/cd09b818d4692285b2d523708af5b5d3/272a48a9/white.jpg', 'filename': 'white.jpg', 'size': 148069, 'type': 'image/jpeg', 'thumbnails': {'small': {'url': 'https://dl.airtable.com/.attachmentThumbnails/283060c5c467cd008c08c9fbe71284f8/860b8b53', 'width': 26, 'height': 36}, 'large': {'url': 'https://dl.airtable.com/.attachmentThumbnails/a924baa5ff951214ccb4114ab9bb3c92/448a8c68', 'width': 512, 'height': 708}, 'full': {'url': 'https://dl.airtable.com/.attachmentThumbnails/6555de6109ef0dc9eb2a2c8238b9a753/6aa62831', 'width': 3000, 'height': 3000}}}], 'how_to_make': 'https://www.youtube.com/watch?v=m3G3rUxqZx0', 'recipe': 'dry gin; white citrus liqueur; lemon juice', 'skills': ['recb2zeYCQ4si44Zx'], 'seo_keywords': ['recEPwQyKNrftpjwN', 'recE7VOBeSjH7KOrR'], 'persona': ['reccKj9YPFbY5vnsE', 'recEFMlQ86qJpOXC0'], 'glass': ['recYE26s6KqCaNUK2'], 'color': ['recgdgsr6g8MZmgSp'], 'flavour_2': ['recLBUoMDGq5cZlXK'], 'spirit_type': ['gin '], 'url': 'https://dl.airtable.com/.attachments/cd09b818d4692285b2d523708af5b5d3/272a48a9/white.jpg'}\n",
      "{'cocktail': 'Mint Frappe', 'flavour': '甘口', 'alcohol_content': 0.12, 'spirits': ['recxuS2m8qjaeeCQd'], 'images': [{'id': 'attmBrFEh2DsDjoVs', 'url': 'https://dl.airtable.com/.attachments/bc35b048a0a8d108ad1d9fc2dbd4c75e/385832b3/mint.jpg', 'filename': 'mint.jpg', 'size': 136467, 'type': 'image/jpeg', 'thumbnails': {'small': {'url': 'https://dl.airtable.com/.attachmentThumbnails/ec8a37a5b94a3c9c62f1e4a38b22c7d9/bb49ad6b', 'width': 54, 'height': 36}, 'large': {'url': 'https://dl.airtable.com/.attachmentThumbnails/26ce837574c4558e2b92faf2a2dca419/c55c821d', 'width': 600, 'height': 400}, 'full': {'url': 'https://dl.airtable.com/.attachmentThumbnails/add121c4c283984fec8c48d18c630482/73b64375', 'width': 3000, 'height': 3000}}}], 'how_to_make': 'https://www.youtube.com/watch?v=FtOdiaJ5haE', 'recipe': 'mint julep; ice;', 'skills': ['recFDom8ILaGiwc00'], 'seo_keywords': ['recEPwQyKNrftpjwN', 'rec70KapbtoDY3lQc', 'recE7VOBeSjH7KOrR', 'recA8ix9uuYIxvEVu'], 'persona': ['reccKj9YPFbY5vnsE', 'recl346II7rwCzNxg', 'recEFMlQ86qJpOXC0'], 'glass': ['rech9x6zesdhiBk1Y'], 'color': ['recqStc45WYVbrGyT'], 'flavour_2': ['recXNXGv2QdNnym0e'], 'spirit_type': ['liqueur'], 'url': 'https://dl.airtable.com/.attachments/bc35b048a0a8d108ad1d9fc2dbd4c75e/385832b3/mint.jpg'}\n",
      "{'cocktail': 'Emerald Cooler', 'flavour': '甘口', 'alcohol_content': 0.09, 'spirits': ['recOtykTLIeOIvEuW'], 'images': [{'id': 'attYei2LOJFuPypKL', 'url': 'https://dl.airtable.com/.attachments/8c525f8a68a977b99a5aeac1fc6a5a48/74032a40/EMERALDCOOLER1.jpg', 'filename': 'EMERALD COOLER1.jpg', 'size': 19754, 'type': 'image/jpeg', 'thumbnails': {'small': {'url': 'https://dl.airtable.com/.attachmentThumbnails/70594e0d5a4a3ea4c69bea061d912e19/c8b0165d', 'width': 48, 'height': 36}, 'large': {'url': 'https://dl.airtable.com/.attachmentThumbnails/256302a2cd5098f3cd409ff8f1df731d/ba122bfc', 'width': 480, 'height': 360}, 'full': {'url': 'https://dl.airtable.com/.attachmentThumbnails/aa69223b79cae49bb9744b3384ce005e/03156433', 'width': 3000, 'height': 3000}}}], 'how_to_make': 'https://www.youtube.com/watch?v=8LCxHuziqDw', 'recipe': 'dry gin; mint julep; lemon juice; syrup; soda water', 'skills': ['recb2zeYCQ4si44Zx'], 'seo_keywords': ['recgn4RmZKHaGWje1'], 'persona': ['reccKj9YPFbY5vnsE', 'recozwy4YKRxriEGz', 'recj8nVntD1w1VfbP'], 'glass': ['recosHHULpFFNLn62'], 'color': ['recqStc45WYVbrGyT'], 'flavour_2': ['recXNXGv2QdNnym0e'], 'spirit_type': ['gin '], 'url': 'https://dl.airtable.com/.attachments/8c525f8a68a977b99a5aeac1fc6a5a48/74032a40/EMERALDCOOLER1.jpg'}\n",
      "{'cocktail': 'Aqua Marine', 'flavour': '中等', 'alcohol_content': 0.3, 'spirits': ['recRGd7JPtYYp6yU9'], 'images': [{'id': 'attt6B02stcvc5HUI', 'url': 'https://dl.airtable.com/.attachments/11324fdae677af02c3dad6d1947ae229/c48df1a6/aquamarine.jpg', 'filename': 'aqua marine.jpg', 'size': 6393, 'type': 'image/jpeg', 'thumbnails': {'small': {'url': 'https://dl.airtable.com/.attachmentThumbnails/3b3ad7b7d44faf9607d48caa2a24f65b/5524b127', 'width': 26, 'height': 36}, 'large': {'url': 'https://dl.airtable.com/.attachmentThumbnails/9789775872082bb5b1aea15a9b0f0e4d/ec8908e2', 'width': 320, 'height': 440}, 'full': {'url': 'https://dl.airtable.com/.attachmentThumbnails/79de6512d7af7bab646997b390ad12ae/ae12da86', 'width': 3000, 'height': 3000}}}], 'how_to_make': 'https://www.youtube.com/watch?v=Y_jFdR_JSoU', 'recipe': 'tequila; grapefruit wine; lime juice; blue orange liqueur', 'skills': ['recb2zeYCQ4si44Zx'], 'seo_keywords': ['rec70KapbtoDY3lQc', 'recEPwQyKNrftpjwN'], 'persona': ['reccKj9YPFbY5vnsE', 'recl346II7rwCzNxg', 'recf7PsFVOagqU5e6', 'recEFMlQ86qJpOXC0'], 'glass': ['rech9x6zesdhiBk1Y'], 'color': ['recczdyD87Fqw4R3c'], 'flavour_2': ['recgwn7BKGaJS9HQK'], 'spirit_type': ['tequila'], 'url': 'https://dl.airtable.com/.attachments/11324fdae677af02c3dad6d1947ae229/c48df1a6/aquamarine.jpg'}\n",
      "{'cocktail': 'China Blue', 'flavour': '中等', 'alcohol_content': 0.05, 'spirits': ['recCujirMtFv8cTHE'], 'images': [{'id': 'atteJQMgEtK3GGBh3', 'url': 'https://dl.airtable.com/.attachments/fcb94d60af5ee500522bc226d91a5ad7/0ddb77d1/china-blue-drink-600x900.jpg', 'filename': 'china-blue-drink-600x900.jpg', 'size': 72379, 'type': 'image/jpeg', 'thumbnails': {'small': {'url': 'https://dl.airtable.com/.attachmentThumbnails/fce5f60ba6c2c91eb82fcfc4804d4b29/cdd02560', 'width': 24, 'height': 36}, 'large': {'url': 'https://dl.airtable.com/.attachmentThumbnails/a713a3a06393be536677f2853de50405/e5de2194', 'width': 512, 'height': 768}, 'full': {'url': 'https://dl.airtable.com/.attachmentThumbnails/9e3331e1b93e52227e5758c27b688a47/a829d55e', 'width': 3000, 'height': 3000}}}], 'how_to_make': 'https://www.youtube.com/watch?v=hhhzgKWPXB4', 'recipe': 'litchi liqueur; grapefruit juice; tonic water. blue orange liqueur', 'skills': ['recFDom8ILaGiwc00'], 'seo_keywords': ['recFPKiTX2YQzowfO', 'recgn4RmZKHaGWje1', 'recE7VOBeSjH7KOrR'], 'persona': ['recozwy4YKRxriEGz', 'reccKj9YPFbY5vnsE', 'recj8nVntD1w1VfbP', 'recEFMlQ86qJpOXC0', 'recI5U1bpjchWwWIY'], 'glass': ['recosHHULpFFNLn62'], 'color': ['recczdyD87Fqw4R3c'], 'flavour_2': ['recgwn7BKGaJS9HQK'], 'spirit_type': ['liqueur'], 'url': 'https://dl.airtable.com/.attachments/fcb94d60af5ee500522bc226d91a5ad7/0ddb77d1/china-blue-drink-600x900.jpg'}\n",
      "{'cocktail': 'Violet Fizz', 'flavour': '中等', 'alcohol_content': 0.06, 'spirits': ['recRGd7JPtYYp6yU9'], 'images': [{'id': 'attjAOZd52aaYYykn', 'url': 'https://dl.airtable.com/.attachments/5610548c537f43c0a20a530c5d331e80/63e33414/violetfizz.jpg', 'filename': 'violet fizz.jpg', 'size': 35946, 'type': 'image/jpeg', 'thumbnails': {'small': {'url': 'https://dl.airtable.com/.attachmentThumbnails/6e24af6f50ba98210ed2a7034fc96850/6d1f75bd', 'width': 29, 'height': 36}, 'large': {'url': 'https://dl.airtable.com/.attachmentThumbnails/78a6b86d83f401e0fb32ef0b03f6a640/9fcbc52f', 'width': 512, 'height': 640}, 'full': {'url': 'https://dl.airtable.com/.attachmentThumbnails/d6e24fc2d495dfe11d0ccebbce3d3feb/593296b4', 'width': 3000, 'height': 3000}}}], 'how_to_make': 'https://www.youtube.com/watch?v=7U3ovwtLvsU', 'recipe': 'violet liqueur; lemon juice; soda; ', 'skills': ['recb2zeYCQ4si44Zx'], 'seo_keywords': ['recgn4RmZKHaGWje1', 'recE7VOBeSjH7KOrR', 'recFPKiTX2YQzowfO'], 'persona': ['recl346II7rwCzNxg', 'recf7PsFVOagqU5e6', 'recEFMlQ86qJpOXC0'], 'glass': ['recosHHULpFFNLn62'], 'color': ['reclHqqpQC9ScRjHU'], 'flavour_2': ['recgwn7BKGaJS9HQK'], 'spirit_type': ['tequila'], 'url': 'https://dl.airtable.com/.attachments/5610548c537f43c0a20a530c5d331e80/63e33414/violetfizz.jpg'}\n",
      "{'cocktail': 'Matador', 'flavour': '中等', 'alcohol_content': 0.12, 'spirits': ['recRGd7JPtYYp6yU9'], 'images': [{'id': 'attRdZGphgZ8Lj6uW', 'url': 'https://dl.airtable.com/.attachments/833b04ede5b4e30726bd6d355232cfb3/d7c1ac03/matador.jpg', 'filename': 'matador.jpg', 'size': 60656, 'type': 'image/jpeg', 'thumbnails': {'small': {'url': 'https://dl.airtable.com/.attachmentThumbnails/ac48837156a08c79057d15ca3528bae9/979252e8', 'width': 24, 'height': 36}, 'large': {'url': 'https://dl.airtable.com/.attachmentThumbnails/e70e779afc6bd6da844a0dc40a3ac059/a68c099e', 'width': 512, 'height': 767}, 'full': {'url': 'https://dl.airtable.com/.attachmentThumbnails/eb4674eba7bf54680e9e0dbce65bd600/baec2963', 'width': 3000, 'height': 3000}}}], 'how_to_make': 'https://www.youtube.com/watch?v=8QLmUd6NRvY', 'recipe': 'tequila; pineapple juice; lime juice', 'skills': ['recb2zeYCQ4si44Zx'], 'seo_keywords': ['recgn4RmZKHaGWje1', 'recE7VOBeSjH7KOrR', 'rec60GRbC33NWrtY0', 'recFPKiTX2YQzowfO'], 'persona': ['reccKj9YPFbY5vnsE', 'recl346II7rwCzNxg', 'recf7PsFVOagqU5e6'], 'glass': ['rectzW4jAqXrZaUuu'], 'color': ['rec6KEFEDWKX4ZQk6'], 'flavour_2': ['recgwn7BKGaJS9HQK'], 'spirit_type': ['tequila'], 'url': 'https://dl.airtable.com/.attachments/833b04ede5b4e30726bd6d355232cfb3/d7c1ac03/matador.jpg'}\n",
      "{'cocktail': 'Carib', 'flavour': '中等', 'alcohol_content': 0.2, 'spirits': ['recDvpYHMY7QpSp4Q'], 'images': [{'id': 'attyWPfrErjUHJO7C', 'url': 'https://dl.airtable.com/.attachments/cf6bacd7b07823f9bf596d80a5bc34bf/3cc61fd9/varib.jpg', 'filename': 'varib.jpg', 'size': 61458, 'type': 'image/jpeg', 'thumbnails': {'small': {'url': 'https://dl.airtable.com/.attachmentThumbnails/fcc01deaba06fe555e1626d449de0cae/d7d0f70d', 'width': 30, 'height': 36}, 'large': {'url': 'https://dl.airtable.com/.attachmentThumbnails/79062df5a1d6d6b16fa6b650c84e4afd/ffd37644', 'width': 512, 'height': 614}, 'full': {'url': 'https://dl.airtable.com/.attachmentThumbnails/06fd31a53f8c04a5a5c785df649dd93c/2f3f6665', 'width': 3000, 'height': 3000}}}], 'how_to_make': 'https://www.youtube.com/watch?v=OBC_knAjPYU', 'recipe': 'white rum; pineapple juice; lemon juice', 'skills': ['recb2zeYCQ4si44Zx'], 'seo_keywords': ['recEPwQyKNrftpjwN', 'recE7VOBeSjH7KOrR', 'rec70KapbtoDY3lQc'], 'persona': ['recozwy4YKRxriEGz', 'recI5U1bpjchWwWIY', 'recf7PsFVOagqU5e6'], 'glass': ['recrmfqYFmFJDgskG'], 'color': ['rec6KEFEDWKX4ZQk6'], 'flavour_2': ['recgwn7BKGaJS9HQK'], 'spirit_type': ['rum'], 'url': 'https://dl.airtable.com/.attachments/cf6bacd7b07823f9bf596d80a5bc34bf/3cc61fd9/varib.jpg'}\n",
      "{'cocktail': 'Fuzzy Navel', 'flavour': '甘口', 'alcohol_content': 0.08, 'spirits': ['recCujirMtFv8cTHE'], 'images': [{'id': 'att11y02GdtarigJ7', 'url': 'https://dl.airtable.com/.attachments/cec5aad5ad919b728f0d3ff79fb06ead/f3776eb0/fuzzy-navel.jpg', 'filename': 'fuzzy-navel.jpg', 'size': 524600, 'type': 'image/jpeg', 'thumbnails': {'small': {'url': 'https://dl.airtable.com/.attachmentThumbnails/86403ba7d1a9d6fbdb91251eb52031ba/03f259c4', 'width': 54, 'height': 36}, 'large': {'url': 'https://dl.airtable.com/.attachmentThumbnails/06a830f82b39235af0f239efd0da7f40/d8b5fb30', 'width': 768, 'height': 512}, 'full': {'url': 'https://dl.airtable.com/.attachmentThumbnails/8ef5b3c00a5606495849179b60c688ee/6e4fa822', 'width': 3000, 'height': 3000}}}], 'how_to_make': 'https://www.youtube.com/watch?v=wLdLJrHJEZ8', 'recipe': 'peach liqueur; orange juice', 'skills': ['recFDom8ILaGiwc00'], 'seo_keywords': ['recgn4RmZKHaGWje1', 'recA8ix9uuYIxvEVu', 'recE7VOBeSjH7KOrR'], 'persona': ['recozwy4YKRxriEGz', 'recj8nVntD1w1VfbP', 'recf7PsFVOagqU5e6', 'reccKj9YPFbY5vnsE'], 'glass': ['rectzW4jAqXrZaUuu'], 'color': ['rec2rNbmGywnMOsZQ'], 'flavour_2': ['recXNXGv2QdNnym0e'], 'spirit_type': ['liqueur'], 'url': 'https://dl.airtable.com/.attachments/cec5aad5ad919b728f0d3ff79fb06ead/f3776eb0/fuzzy-navel.jpg'}\n",
      "{'cocktail': 'Tequila Sunrise', 'flavour': '甘口', 'alcohol_content': 0.11, 'spirits': ['recRGd7JPtYYp6yU9'], 'images': [{'id': 'attdU176CFGgdCIXd', 'url': 'https://dl.airtable.com/.attachments/326b62ce481f2a26268a7014bd4e3a10/66dec50f/spicy-tequila-sunrise-small-1.jpg', 'filename': 'spicy-tequila-sunrise-small-1.jpg', 'size': 94625, 'type': 'image/jpeg', 'thumbnails': {'small': {'url': 'https://dl.airtable.com/.attachmentThumbnails/6627c3f29e9dbd8b6e8a2c822a8ae608/7f135a2e', 'width': 24, 'height': 36}, 'large': {'url': 'https://dl.airtable.com/.attachmentThumbnails/46cefd7f56f93da768e565977517b987/d3435190', 'width': 512, 'height': 767}, 'full': {'url': 'https://dl.airtable.com/.attachmentThumbnails/ae3807678a44c261c8b09b7eba619f2a/013dc233', 'width': 3000, 'height': 3000}}}], 'how_to_make': 'https://www.youtube.com/watch?v=NVeTGvwk8y0', 'recipe': 'tequila; orange juice; ', 'skills': ['recFDom8ILaGiwc00'], 'seo_keywords': ['recgn4RmZKHaGWje1', 'recE7VOBeSjH7KOrR', 'recFPKiTX2YQzowfO'], 'persona': ['recozwy4YKRxriEGz', 'recdRLR3e7wBZHRfb', 'recf7PsFVOagqU5e6'], 'glass': ['recF3hOcxSbZaATJS'], 'color': ['rec2rNbmGywnMOsZQ'], 'flavour_2': ['recXNXGv2QdNnym0e'], 'spirit_type': ['tequila'], 'url': 'https://dl.airtable.com/.attachments/326b62ce481f2a26268a7014bd4e3a10/66dec50f/spicy-tequila-sunrise-small-1.jpg'}\n",
      "{'cocktail': 'Bacardi', 'flavour': '辛口', 'alcohol_content': 0.06, 'spirits': ['recDvpYHMY7QpSp4Q'], 'images': [{'id': 'attxWOQszjWCih4jT', 'url': 'https://dl.airtable.com/.attachments/ba5c2ef7013ce5d3e8f7364e6b8aac36/318b88b0/BS_Hurricane-black-1024x1024.jpg', 'filename': 'BS_Hurricane-black-1024x1024.jpg', 'size': 2839465, 'type': 'image/jpeg', 'thumbnails': {'small': {'url': 'https://dl.airtable.com/.attachmentThumbnails/3834cc99dedd86e24e063978dd54004e/9b9d4f19', 'width': 36, 'height': 36}, 'large': {'url': 'https://dl.airtable.com/.attachmentThumbnails/b368fb6289b7afef522fe95b4d29839f/c41af687', 'width': 512, 'height': 512}, 'full': {'url': 'https://dl.airtable.com/.attachmentThumbnails/f173b8e84252cb47c23ff1bd248645fa/713c5605', 'width': 3000, 'height': 3000}}}], 'how_to_make': 'https://www.youtube.com/watch?v=aoZOvnG5TPY', 'recipe': 'Bacardi rum; lime juice; Pomegranate molasses', 'skills': ['recb2zeYCQ4si44Zx'], 'seo_keywords': ['recFPKiTX2YQzowfO', 'recE7VOBeSjH7KOrR', 'rec70KapbtoDY3lQc'], 'persona': ['recozwy4YKRxriEGz', 'recI5U1bpjchWwWIY', 'recf7PsFVOagqU5e6'], 'glass': ['rech9x6zesdhiBk1Y', 'recYE26s6KqCaNUK2'], 'color': ['recAiv2Pjcq9eOLKg'], 'flavour_2': ['recLBUoMDGq5cZlXK'], 'spirit_type': ['rum'], 'url': 'https://dl.airtable.com/.attachments/ba5c2ef7013ce5d3e8f7364e6b8aac36/318b88b0/BS_Hurricane-black-1024x1024.jpg'}\n",
      "{'cocktail': 'Cherry Blossom', 'flavour': '中等', 'alcohol_content': 0.27, 'spirits': ['recIbannEpX0FOyW2'], 'images': [{'id': 'attJidh36vpvZTdPT', 'url': 'https://dl.airtable.com/.attachments/36e2d8345c48f68b46179369ddd9217f/112c3ad8/cherryblossom.jpg', 'filename': 'cherryblossom.jpg', 'size': 282602, 'type': 'image/jpeg', 'thumbnails': {'small': {'url': 'https://dl.airtable.com/.attachmentThumbnails/1827fd03adbc5c4abbde845fe9b3ad39/f814ed2e', 'width': 36, 'height': 36}, 'large': {'url': 'https://dl.airtable.com/.attachmentThumbnails/c90500bba9e8781e4d869cb650c283ff/5bdd57c3', 'width': 512, 'height': 512}, 'full': {'url': 'https://dl.airtable.com/.attachmentThumbnails/d78552d2167f9cbd836dee5721de65d6/456c245d', 'width': 3000, 'height': 3000}}}], 'how_to_make': 'https://www.youtube.com/watch?v=gJ2NVrytNrg', 'recipe': 'brandy;Cherry brandy;Citrus liqueur;Pomegranate molasses; lemon juice', 'skills': ['recb2zeYCQ4si44Zx'], 'seo_keywords': ['recEPwQyKNrftpjwN', 'recE7VOBeSjH7KOrR', 'recFPKiTX2YQzowfO'], 'persona': ['reccKj9YPFbY5vnsE', 'recj8nVntD1w1VfbP', 'recf7PsFVOagqU5e6'], 'glass': ['rec0nYA0kBCPknoDj'], 'color': ['recUXpeIFVYbBNoJq'], 'flavour_2': ['recgwn7BKGaJS9HQK'], 'spirit_type': ['brandy'], 'url': 'https://dl.airtable.com/.attachments/36e2d8345c48f68b46179369ddd9217f/112c3ad8/cherryblossom.jpg'}\n",
      "{'cocktail': 'Florida', 'flavour': '中等', 'alcohol_content': 0.01, 'spirits': ['recsQGCKKvlqvxlER'], 'images': [{'id': 'attAchKK7NYqglNvu', 'url': 'https://dl.airtable.com/.attachments/660c24dfaa1a1e8a47c44e4a1e407a26/f43a71d6/inner17.jpg', 'filename': 'inner17.jpg', 'size': 94695, 'type': 'image/jpeg', 'thumbnails': {'small': {'url': 'https://dl.airtable.com/.attachmentThumbnails/b8b7f3071e49844ba0717e78ae315ebd/cd5c2e52', 'width': 33, 'height': 36}, 'large': {'url': 'https://dl.airtable.com/.attachmentThumbnails/189b602f99a5f515299077a526016776/e8c86b10', 'width': 512, 'height': 563}, 'full': {'url': 'https://dl.airtable.com/.attachmentThumbnails/99b49153ff8e12f261af401bea550ee0/465abd20', 'width': 3000, 'height': 3000}}}], 'how_to_make': 'https://cocktaillab.org/cocktails/daiquiri-florida-cocktail', 'recipe': 'Grenadine；Lemon Juice；Orange juice', 'skills': ['recb2zeYCQ4si44Zx'], 'seo_keywords': ['recC7QNBiVV93RaTV', 'recgn4RmZKHaGWje1', 'rec3PyLp8CpcQYtUE'], 'persona': ['recozwy4YKRxriEGz', 'recdRLR3e7wBZHRfb', 'recEFMlQ86qJpOXC0'], 'glass': ['recosHHULpFFNLn62', 'recF3hOcxSbZaATJS'], 'color': ['rec6KEFEDWKX4ZQk6'], 'flavour_2': ['recgwn7BKGaJS9HQK'], 'spirit_type': ['mocktail '], 'url': 'https://dl.airtable.com/.attachments/660c24dfaa1a1e8a47c44e4a1e407a26/f43a71d6/inner17.jpg'}\n",
      "{'cocktail': 'Bloody Mary', 'flavour': '辛口', 'alcohol_content': 0.12, 'spirits': ['recS4ruUJbc2zufxZ'], 'images': [{'id': 'attyUb9JyVlGRJV4Y', 'url': 'https://dl.airtable.com/.attachments/f1c63b730fceaef9a1dac1694bd6388d/74a60452/Drink-Photography-Bloody-Mary2.jpg', 'filename': 'Drink-Photography-Bloody-Mary2.jpg', 'size': 271813, 'type': 'image/jpeg', 'thumbnails': {'small': {'url': 'https://dl.airtable.com/.attachmentThumbnails/30ddaa35bd266c322054771e76335d35/7d89e627', 'width': 24, 'height': 36}, 'large': {'url': 'https://dl.airtable.com/.attachmentThumbnails/c9e2d40f10a17d4c61bcf9cdd9fc5311/c68927d6', 'width': 512, 'height': 768}, 'full': {'url': 'https://dl.airtable.com/.attachmentThumbnails/f7b45214cda6950e15b504059ee1fec4/f3797367', 'width': 3000, 'height': 3000}}}], 'how_to_make': 'https://www.bilibili.com/video/av26919488/', 'recipe': 'Dash of Tabasco;Some Dashes of Worcestershire English Sauce;Lemon Juice;Vodka;Tomato juice;1 Pinch of Celery salt', 'skills': ['recFDom8ILaGiwc00'], 'seo_keywords': ['recgn4RmZKHaGWje1', 'rec3PyLp8CpcQYtUE', 'rec70KapbtoDY3lQc', 'recFPKiTX2YQzowfO'], 'persona': ['recl346II7rwCzNxg', 'recj8nVntD1w1VfbP'], 'glass': ['recYE26s6KqCaNUK2'], 'color': ['recUXpeIFVYbBNoJq'], 'flavour_2': ['recLBUoMDGq5cZlXK'], 'spirit_type': ['vodka'], 'url': 'https://dl.airtable.com/.attachments/f1c63b730fceaef9a1dac1694bd6388d/74a60452/Drink-Photography-Bloody-Mary2.jpg'}\n",
      "{'cocktail': 'Charlie Chaplin', 'flavour': '甘口', 'alcohol_content': 0.15, 'spirits': ['recCujirMtFv8cTHE'], 'images': [{'id': 'attOjhdAAb8LloU9e', 'url': 'https://dl.airtable.com/.attachments/74d5cad899fffc20f9dd2ad7def1a5a5/1d0b2a3c/Charlie-Chaplin-Cocktail-4-Copia-770x390.jpg', 'filename': 'Charlie-Chaplin-Cocktail-4-Copia-770x390.jpg', 'size': 105569, 'type': 'image/jpeg', 'thumbnails': {'small': {'url': 'https://dl.airtable.com/.attachmentThumbnails/557c10f491f68ad3e3e0ee2fd14b783f/ca23b580', 'width': 71, 'height': 36}, 'large': {'url': 'https://dl.airtable.com/.attachmentThumbnails/296dc66e625bce986f411b424f10a78e/e9fdea3a', 'width': 770, 'height': 390}, 'full': {'url': 'https://dl.airtable.com/.attachmentThumbnails/56d0a97cdf8597ab9c374fbc7bea0b12/9a029cf2', 'width': 3000, 'height': 3000}}}], 'how_to_make': 'https://www.bilibili.com/video/av34526648?from=search&seid=7166069381871989474', 'recipe': 'apricot brandy;sloe gin;lime juice (freshly squeezed);lime peel', 'skills': ['recb2zeYCQ4si44Zx'], 'seo_keywords': ['recE7VOBeSjH7KOrR', 'recgn4RmZKHaGWje1'], 'persona': ['recozwy4YKRxriEGz', 'recf7PsFVOagqU5e6', 'recEFMlQ86qJpOXC0'], 'glass': ['rectzW4jAqXrZaUuu'], 'color': ['recn0P9q7XuV2i3Md'], 'flavour_2': ['recXNXGv2QdNnym0e'], 'spirit_type': ['liqueur'], 'url': 'https://dl.airtable.com/.attachments/74d5cad899fffc20f9dd2ad7def1a5a5/1d0b2a3c/Charlie-Chaplin-Cocktail-4-Copia-770x390.jpg'}\n",
      "{'cocktail': 'Ice-breaker', 'flavour': '中等', 'alcohol_content': 0.2, 'spirits': ['recRGd7JPtYYp6yU9'], 'images': [{'id': 'attInf1rmaTeACaSo', 'url': 'https://dl.airtable.com/.attachments/0c35d78fcfde5e8c82b36628bc878c9e/90850831/cocktail-icebreaker-tequila-pamplemousse.jpg', 'filename': 'cocktail-icebreaker-tequila-pamplemousse.jpg', 'size': 132422, 'type': 'image/jpeg', 'thumbnails': {'small': {'url': 'https://dl.airtable.com/.attachmentThumbnails/c0427d0a2b5c2af63af059cc7c3ab675/9f789eb7', 'width': 36, 'height': 36}, 'large': {'url': 'https://dl.airtable.com/.attachmentThumbnails/bbb2409f05e1733fbb4f660b4110344f/75619429', 'width': 514, 'height': 512}, 'full': {'url': 'https://dl.airtable.com/.attachmentThumbnails/c75ec434724e158f5703dfe3adac64ad/f7446e87', 'width': 3000, 'height': 3000}}}], 'how_to_make': 'https://www.bilibili.com/video/av5770108/', 'recipe': 'Tequila;Cointreau;Grapefruit juice;Grenadine Syrup', 'skills': ['recb2zeYCQ4si44Zx'], 'seo_keywords': ['recEPwQyKNrftpjwN', 'recE7VOBeSjH7KOrR', 'rec3PyLp8CpcQYtUE', 'recriLw1p6pRqghLP', 'recFPKiTX2YQzowfO'], 'persona': ['recf7PsFVOagqU5e6', 'recI5U1bpjchWwWIY', 'recozwy4YKRxriEGz'], 'glass': ['rectzW4jAqXrZaUuu'], 'color': ['recAiv2Pjcq9eOLKg'], 'flavour_2': ['recgwn7BKGaJS9HQK'], 'spirit_type': ['tequila'], 'url': 'https://dl.airtable.com/.attachments/0c35d78fcfde5e8c82b36628bc878c9e/90850831/cocktail-icebreaker-tequila-pamplemousse.jpg'}\n",
      "{'cocktail': 'Daquiri', 'flavour': '辛口', 'alcohol_content': 0.27, 'spirits': ['recDvpYHMY7QpSp4Q'], 'images': [{'id': 'attlo7qG3e6dkvnhE', 'url': 'https://dl.airtable.com/.attachments/1b81404e558b8665ebb842881a86af4b/911a42ba/1593-daiquiri-cocktail-made-rum-lime-and-sugar-most-famous-cocktail-ever-made.jpg', 'filename': '1593-daiquiri-cocktail-made-rum-lime-and-sugar-most-famous-cocktail-ever-made.jpg', 'size': 178181, 'type': 'image/jpeg', 'thumbnails': {'small': {'url': 'https://dl.airtable.com/.attachmentThumbnails/d85dd67784adaad110fd6ff015921a16/4a3cbcc0', 'width': 24, 'height': 36}, 'large': {'url': 'https://dl.airtable.com/.attachmentThumbnails/3343637cdfb8e7f8520a8b58b22824d9/8179c604', 'width': 512, 'height': 768}, 'full': {'url': 'https://dl.airtable.com/.attachmentThumbnails/1271b8eb7f174d4c12db9b14bb226d2a/ce636673', 'width': 3000, 'height': 3000}}}], 'how_to_make': 'https://www.liquor.com/recipes/daiquiri/#gs.3urztv?jwsource=cl', 'recipe': 'rum (light);lime juice (fresh);simple syrup', 'skills': ['recb2zeYCQ4si44Zx'], 'seo_keywords': ['recEPwQyKNrftpjwN', 'recE7VOBeSjH7KOrR', 'recJDidsMxLaM0WqP'], 'persona': ['reccKj9YPFbY5vnsE', 'recI5U1bpjchWwWIY', 'recj8nVntD1w1VfbP'], 'glass': ['recYE26s6KqCaNUK2'], 'color': ['recgdgsr6g8MZmgSp'], 'flavour_2': ['recLBUoMDGq5cZlXK'], 'spirit_type': ['rum'], 'url': 'https://dl.airtable.com/.attachments/1b81404e558b8665ebb842881a86af4b/911a42ba/1593-daiquiri-cocktail-made-rum-lime-and-sugar-most-famous-cocktail-ever-made.jpg'}\n",
      "{'cocktail': 'Rusty Nail', 'flavour': '甘口', 'alcohol_content': 0.37, 'spirits': ['reccdXZApsOohgJtW'], 'images': [{'id': 'att2V5kcUPqSH4BMb', 'url': 'https://dl.airtable.com/.attachments/e02943585ddb8f5b99a9a09b8a76e41b/8431ce51/Rusty-Nail-Cocktail-Square.jpg', 'filename': 'Rusty-Nail-Cocktail-Square.jpg', 'size': 37596, 'type': 'image/jpeg', 'thumbnails': {'small': {'url': 'https://dl.airtable.com/.attachmentThumbnails/c536acc3428dba48043137eecc0f9dae/0afe7548', 'width': 36, 'height': 36}, 'large': {'url': 'https://dl.airtable.com/.attachmentThumbnails/f1f8e6bd3613a24d301595fa946b1bb4/f3f21b15', 'width': 512, 'height': 512}, 'full': {'url': 'https://dl.airtable.com/.attachmentThumbnails/2abb3c779e700c4881cb4d1c6b8505e7/04489494', 'width': 3000, 'height': 3000}}}], 'how_to_make': 'https://www.youtube.com/watch?v=edYSaO1xkdk', 'recipe': 'scotch whiskey; Drambuie; Pomegranate molasses', 'skills': ['recFDom8ILaGiwc00'], 'seo_keywords': ['recgn4RmZKHaGWje1', 'rec70KapbtoDY3lQc', 'rec60GRbC33NWrtY0', 'recmRJ5svwjKURSKz', 'recA8ix9uuYIxvEVu'], 'persona': ['recl346II7rwCzNxg', 'recj8nVntD1w1VfbP', 'recI5U1bpjchWwWIY'], 'glass': ['rectzW4jAqXrZaUuu'], 'color': ['rectDuc05nV1PgLM8'], 'flavour_2': ['recXNXGv2QdNnym0e'], 'spirit_type': ['whisky'], 'url': 'https://dl.airtable.com/.attachments/e02943585ddb8f5b99a9a09b8a76e41b/8431ce51/Rusty-Nail-Cocktail-Square.jpg'}\n",
      "{'cocktail': 'Jack Rose', 'flavour': '中等', 'alcohol_content': 0.2, 'spirits': ['rec6ThCa161qMHU95'], 'images': [{'id': 'attC2wRQOkPKkWCSt', 'url': 'https://dl.airtable.com/.attachments/9fbbb186f4d7327b0023d746234de97b/88626e4d/Jack-Rose-Cocktail.jpg', 'filename': 'Jack-Rose-Cocktail.jpg', 'size': 236083, 'type': 'image/jpeg', 'thumbnails': {'small': {'url': 'https://dl.airtable.com/.attachmentThumbnails/1994f9897b3c666d1fa249a7314fe1b7/db2a40c4', 'width': 27, 'height': 36}, 'large': {'url': 'https://dl.airtable.com/.attachmentThumbnails/d03062765a3cb10722b1085ce46a54f0/e672cc95', 'width': 476, 'height': 640}, 'full': {'url': 'https://dl.airtable.com/.attachmentThumbnails/ea2dbfbeb787d41cea7f0fe1edd0d8eb/461f2660', 'width': 3000, 'height': 3000}}}], 'how_to_make': 'https://v.qq.com/x/page/q0186rg0cy4.html', 'recipe': 'applejack brandy;Fresh lime;Grenadine', 'skills': ['recb2zeYCQ4si44Zx'], 'seo_keywords': ['recEPwQyKNrftpjwN', 'recA8ix9uuYIxvEVu', 'recFPKiTX2YQzowfO'], 'persona': ['recozwy4YKRxriEGz', 'reccKj9YPFbY5vnsE', 'recf7PsFVOagqU5e6'], 'glass': ['rech9x6zesdhiBk1Y'], 'color': ['recUXpeIFVYbBNoJq'], 'flavour_2': ['recgwn7BKGaJS9HQK'], 'spirit_type': ['brandy'], 'url': 'https://dl.airtable.com/.attachments/9fbbb186f4d7327b0023d746234de97b/88626e4d/Jack-Rose-Cocktail.jpg'}\n",
      "{'cocktail': 'Blue Moon', 'flavour': '中等', 'alcohol_content': 0.26, 'spirits': ['reclkGdbPbuss4uZY'], 'images': [{'id': 'attQQfnHxNqoL3O0I', 'url': 'https://dl.airtable.com/.attachments/e817d13843901c82e798234f5e4267c5/452209f8/blue-moon-cocktail.jpg', 'filename': 'blue-moon-cocktail.jpg', 'size': 115811, 'type': 'image/jpeg', 'thumbnails': {'small': {'url': 'https://dl.airtable.com/.attachmentThumbnails/931df9f3ee591fa90b5d495dfa186db9/08441bdb', 'width': 24, 'height': 36}, 'large': {'url': 'https://dl.airtable.com/.attachmentThumbnails/92dea3b8faf8ba0555dedc5f0ee88db9/f5335d4f', 'width': 512, 'height': 768}, 'full': {'url': 'https://dl.airtable.com/.attachmentThumbnails/68948dac10e84c5dd8445a8975bbd0e4/1d4d7e44', 'width': 3000, 'height': 3000}}}], 'how_to_make': 'https://www.bilibili.com/video/av4369633?from=search&seid=10609504979046834184', 'recipe': 'dry gin;Crème Yvette or crème de violette;fresh lemon juice', 'skills': ['recb2zeYCQ4si44Zx'], 'seo_keywords': ['recE7VOBeSjH7KOrR', 'recEPwQyKNrftpjwN', 'rec3PyLp8CpcQYtUE', 'recFPKiTX2YQzowfO'], 'persona': ['recj8nVntD1w1VfbP', 'recf7PsFVOagqU5e6', 'reccKj9YPFbY5vnsE', 'recozwy4YKRxriEGz'], 'glass': ['rech9x6zesdhiBk1Y'], 'color': ['reclHqqpQC9ScRjHU'], 'flavour_2': ['recgwn7BKGaJS9HQK'], 'spirit_type': ['gin '], 'url': 'https://dl.airtable.com/.attachments/e817d13843901c82e798234f5e4267c5/452209f8/blue-moon-cocktail.jpg'}\n",
      "{'cocktail': 'Old Fashioned', 'flavour': '辛口', 'alcohol_content': 0.32, 'spirits': ['recEkV3MdB9XRanoE'], 'images': [{'id': 'att4OHyCdEkfWoyqq', 'url': 'https://dl.airtable.com/.attachments/07ee12a887b10e4ba2b776f6199d0bb1/17ffd06b/old-fashioned.jpeg', 'filename': 'old-fashioned.jpeg', 'size': 157193, 'type': 'image/jpeg', 'thumbnails': {'small': {'url': 'https://dl.airtable.com/.attachmentThumbnails/aa49756bd3a1d8613e89d35cd911d2b6/5f3021ce', 'width': 36, 'height': 36}, 'large': {'url': 'https://dl.airtable.com/.attachmentThumbnails/4d51d8324b8662aa663883211369e001/327b67a2', 'width': 500, 'height': 500}, 'full': {'url': 'https://dl.airtable.com/.attachmentThumbnails/eb63f18ae02fc42498c579aaa26f26d8/650abd1a', 'width': 3000, 'height': 3000}}}], 'how_to_make': 'https://www.bilibili.com/video/av63376730', 'recipe': 'sugar cube;dashes Angostura bitters;bourbon (or rye whiskey);orange slice', 'skills': ['recFDom8ILaGiwc00'], 'seo_keywords': ['recgn4RmZKHaGWje1', 'recriLw1p6pRqghLP', 'rec9SRYWFdnnjK3Sb', 'recmRJ5svwjKURSKz'], 'persona': ['recl346II7rwCzNxg', 'recj8nVntD1w1VfbP', 'recdRLR3e7wBZHRfb'], 'glass': ['rectzW4jAqXrZaUuu'], 'color': ['recn0P9q7XuV2i3Md'], 'flavour_2': ['recLBUoMDGq5cZlXK'], 'spirit_type': ['whisky'], 'url': 'https://dl.airtable.com/.attachments/07ee12a887b10e4ba2b776f6199d0bb1/17ffd06b/old-fashioned.jpeg'}\n",
      "{'cocktail': 'Gin Fizz', 'flavour': '辛口', 'alcohol_content': 0.12, 'spirits': ['recOtykTLIeOIvEuW'], 'images': [{'id': 'attxeGv8p4HpAuJpZ', 'url': 'https://dl.airtable.com/.attachments/9ceb2a298a9827b33413a1c95cc324a9/82b4805b/Rosemary-Lemon-Gin-Fizz-8-630-630x917.jpg', 'filename': 'Rosemary-Lemon-Gin-Fizz-8-630-630x917.jpg', 'size': 78631, 'type': 'image/jpeg', 'thumbnails': {'small': {'url': 'https://dl.airtable.com/.attachmentThumbnails/27196cf73d6a7a2cc5b06188f07df6bf/5ddcdece', 'width': 25, 'height': 36}, 'large': {'url': 'https://dl.airtable.com/.attachmentThumbnails/f8ec863a42ccdf748af4246d3d17ee33/dc965009', 'width': 512, 'height': 745}, 'full': {'url': 'https://dl.airtable.com/.attachmentThumbnails/1397bd3fb1546141eb6b8abdb221e473/1cee2a60', 'width': 3000, 'height': 3000}}}], 'how_to_make': 'https://www.bilibili.com/video/av61356231', 'recipe': 'gin;lemon juice (or lime juice);simple syrup;soda water (or enough to fill)', 'skills': ['recb2zeYCQ4si44Zx'], 'seo_keywords': ['recgn4RmZKHaGWje1', 'recE7VOBeSjH7KOrR'], 'persona': ['recozwy4YKRxriEGz', 'recf7PsFVOagqU5e6', 'recEFMlQ86qJpOXC0'], 'glass': ['recYE26s6KqCaNUK2', 'rech9x6zesdhiBk1Y'], 'color': ['rectDuc05nV1PgLM8'], 'flavour_2': ['recLBUoMDGq5cZlXK'], 'spirit_type': ['gin '], 'url': 'https://dl.airtable.com/.attachments/9ceb2a298a9827b33413a1c95cc324a9/82b4805b/Rosemary-Lemon-Gin-Fizz-8-630-630x917.jpg'}\n"
     ]
    }
   ],
   "source": [
    "from flask import Flask, render_template\n",
    "import pymysql.cursors \n",
    "import requests\n",
    "\n",
    "app = Flask(__name__)\n",
    "\n",
    "#  cursorclass=pymysql.cursors.DictCursor)\n",
    "@app.route(\"/\")\n",
    "\n",
    "def home():\n",
    "    user = {\"name\":\"vvn\"}\n",
    "    headers = {\n",
    "        'Authorization': 'Bearer key5M8LEObW6vdeQz',}\n",
    "\n",
    "    params = (\n",
    "    ('view', 'Grid view'),)\n",
    "    \n",
    "    r = requests.get('https://api.airtable.com/v0/appPGutXBuAhrvwP2/little%F0%9F%8D%B7menu?api_key=key5M8LEObW6vdeQz&sortField=_createdTime&sortDirection=desc', \n",
    "                     headers=headers, params=params)\n",
    "    dict = r.json()\n",
    "    dataset = []\n",
    "    cocktailname = []\n",
    "    flavour_2 = []\n",
    "    alcohol_content = []\n",
    "    recipe = []\n",
    "    for i in dict['records']:\n",
    "        dict = i['fields']\n",
    "        dict['flavour'] = dict['flavour'][0]\n",
    "        print(i['fields'])\n",
    "        dataset.append(dict)\n",
    "    #  {% for row in dataset  %}{{ row[\"name\"] }}{% endfor %}\n",
    "    return render_template('home.html',album_user=user, dataset=dataset)\n",
    "\n",
    "\n",
    "@app.route(\"/aboutus\")\n",
    "def aboutus():\n",
    "    return render_template('aboutus.html')\n",
    "\n",
    "if __name__ == '__main__':\n",
    "    from werkzeug.serving import run_simple\n",
    "    run_simple('localhost', 9010, app)\n",
    "# if __name__ == '__main__':\n",
    "   # app.run(debug = True)\n",
    "# * Running on http://localhost:9010/ (Press CTRL+C to quit)\n",
    "# 127.0.0.1 - - [17/Feb/2020 17:28:07] \"GET / HTTP/1.1\" 200 -\n",
    "# 127.0.0.1 - - [17/Feb/2020 17:30:10] \"GET / HTTP/1.1\" 200 -\n",
    "\n"
   ]
  },
  {
   "cell_type": "code",
   "execution_count": null,
   "metadata": {},
   "outputs": [],
   "source": []
  },
  {
   "cell_type": "code",
   "execution_count": null,
   "metadata": {},
   "outputs": [],
   "source": []
  },
  {
   "cell_type": "code",
   "execution_count": null,
   "metadata": {},
   "outputs": [],
   "source": []
  },
  {
   "cell_type": "code",
   "execution_count": null,
   "metadata": {},
   "outputs": [],
   "source": []
  },
  {
   "cell_type": "code",
   "execution_count": null,
   "metadata": {},
   "outputs": [],
   "source": []
  },
  {
   "cell_type": "code",
   "execution_count": null,
   "metadata": {},
   "outputs": [],
   "source": []
  },
  {
   "cell_type": "code",
   "execution_count": null,
   "metadata": {},
   "outputs": [],
   "source": []
  },
  {
   "cell_type": "code",
   "execution_count": null,
   "metadata": {},
   "outputs": [],
   "source": []
  },
  {
   "cell_type": "code",
   "execution_count": null,
   "metadata": {},
   "outputs": [],
   "source": []
  },
  {
   "cell_type": "code",
   "execution_count": null,
   "metadata": {},
   "outputs": [],
   "source": []
  }
 ],
 "metadata": {
  "kernelspec": {
   "display_name": "Python 3",
   "language": "python",
   "name": "python3"
  },
  "language_info": {
   "codemirror_mode": {
    "name": "ipython",
    "version": 3
   },
   "file_extension": ".py",
   "mimetype": "text/x-python",
   "name": "python",
   "nbconvert_exporter": "python",
   "pygments_lexer": "ipython3",
   "version": "3.7.4"
  }
 },
 "nbformat": 4,
 "nbformat_minor": 2
}
